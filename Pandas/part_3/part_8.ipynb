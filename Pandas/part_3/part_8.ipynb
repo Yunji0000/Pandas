{
 "cells": [
  {
   "cell_type": "code",
   "execution_count": 5,
   "metadata": {},
   "outputs": [
    {
     "ename": "ModuleNotFoundError",
     "evalue": "No module named 'sklearn'",
     "output_type": "error",
     "traceback": [
      "\u001b[0;31m---------------------------------------------------------------------------\u001b[0m",
      "\u001b[0;31mModuleNotFoundError\u001b[0m                       Traceback (most recent call last)",
      "Cell \u001b[0;32mIn[5], line 2\u001b[0m\n\u001b[1;32m      1\u001b[0m \u001b[38;5;28;01mimport\u001b[39;00m \u001b[38;5;21;01mpandas\u001b[39;00m \u001b[38;5;28;01mas\u001b[39;00m \u001b[38;5;21;01mpd\u001b[39;00m\n\u001b[0;32m----> 2\u001b[0m \u001b[38;5;28;01mfrom\u001b[39;00m \u001b[38;5;21;01msklearn\u001b[39;00m\u001b[38;5;21;01m.\u001b[39;00m\u001b[38;5;21;01mpreprocessing\u001b[39;00m \u001b[38;5;28;01mimport\u001b[39;00m OneHotEncoder\n\u001b[1;32m      4\u001b[0m \u001b[38;5;66;03m# 샘플 데이터 생성\u001b[39;00m\n\u001b[1;32m      5\u001b[0m data \u001b[38;5;241m=\u001b[39m {\n\u001b[1;32m      6\u001b[0m     \u001b[38;5;124m'\u001b[39m\u001b[38;5;124morigin\u001b[39m\u001b[38;5;124m'\u001b[39m: [\u001b[38;5;124m'\u001b[39m\u001b[38;5;124mUSA\u001b[39m\u001b[38;5;124m'\u001b[39m, \u001b[38;5;124m'\u001b[39m\u001b[38;5;124mEurope\u001b[39m\u001b[38;5;124m'\u001b[39m, \u001b[38;5;124m'\u001b[39m\u001b[38;5;124mUSA\u001b[39m\u001b[38;5;124m'\u001b[39m, \u001b[38;5;124m'\u001b[39m\u001b[38;5;124mAsia\u001b[39m\u001b[38;5;124m'\u001b[39m, \u001b[38;5;124m'\u001b[39m\u001b[38;5;124mEurope\u001b[39m\u001b[38;5;124m'\u001b[39m]\n\u001b[1;32m      7\u001b[0m }\n",
      "\u001b[0;31mModuleNotFoundError\u001b[0m: No module named 'sklearn'"
     ]
    }
   ],
   "source": [
    "import pandas as pd\n",
    "from sklearn.preprocessing import OneHotEncoder\n",
    "\n",
    "# 샘플 데이터 생성\n",
    "data = {\n",
    "    'origin': ['USA', 'Europe', 'USA', 'Asia', 'Europe']\n",
    "}\n",
    "df = pd.DataFrame(data)\n",
    "\n",
    "# OneHotEncoder 초기화 (희소 행렬을 일반 배열로 출력)\n",
    "encoder = OneHotEncoder(sparse_output=False)\n",
    "\n",
    "# 원-핫 인코딩 수행\n",
    "onehot_encoded = encoder.fit_transform(df[['origin']])\n",
    "\n",
    "# 결과 출력\n",
    "print(onehot_encoded)\n",
    "\n",
    "# 열 이름 출력 (인코딩된 열의 이름 확인)\n",
    "encoded_columns = encoder.get_feature_names_out(['origin'])\n",
    "print(encoded_columns)\n"
   ]
  },
  {
   "cell_type": "code",
   "execution_count": 7,
   "metadata": {},
   "outputs": [
    {
     "name": "stdout",
     "output_type": "stream",
     "text": [
      "원본 데이터프레임:\n",
      "   mpg  cylinders  displacement  horsepower  weight  acceleration  model year  \\\n",
      "0   18          8           307         130    3504          12.0          70   \n",
      "1   15          8           350         165    3693          11.5          70   \n",
      "2   36          4            97          95    2130          14.0          80   \n",
      "3   22          6           140         110    2695          15.0          80   \n",
      "4   20          6           160         115    2825          14.5          80   \n",
      "\n",
      "  origin  \n",
      "0    USA  \n",
      "1    USA  \n",
      "2     Eu  \n",
      "3    USA  \n",
      "4     Eu  \n"
     ]
    }
   ],
   "source": [
    "import pandas as pd\n",
    "\n",
    "# 가상의 자동차 연비 데이터 생성\n",
    "data = {\n",
    "    'mpg': [18, 15, 36, 22, 20],\n",
    "    'cylinders': [8, 8, 4, 6, 6],\n",
    "    'displacement': [307, 350, 97, 140, 160],\n",
    "    'horsepower': [130, 165, 95, 110, 115],\n",
    "    'weight': [3504, 3693, 2130, 2695, 2825],\n",
    "    'acceleration': [12.0, 11.5, 14.0, 15.0, 14.5],\n",
    "    'model year': [70, 70, 80, 80, 80],\n",
    "    'origin': ['USA', 'USA', 'Eu', 'USA', 'Eu'],\n",
    "}\n",
    "\n",
    "# 데이터프레임 생성\n",
    "df = pd.DataFrame(data)\n",
    "\n",
    "print(\"원본 데이터프레임:\")\n",
    "print(df)"
   ]
  },
  {
   "cell_type": "code",
   "execution_count": 8,
   "metadata": {},
   "outputs": [
    {
     "name": "stdout",
     "output_type": "stream",
     "text": [
      "     _Eu   _USA\n",
      "0  False   True\n",
      "1  False   True\n",
      "2   True  False\n",
      "3  False   True\n",
      "4   True  False\n",
      "   mpg  cylinders  displacement  horsepower  weight  acceleration  model year  \\\n",
      "0   18          8           307         130    3504          12.0          70   \n",
      "1   15          8           350         165    3693          11.5          70   \n",
      "2   36          4            97          95    2130          14.0          80   \n",
      "3   22          6           140         110    2695          15.0          80   \n",
      "4   20          6           160         115    2825          14.5          80   \n",
      "\n",
      "  origin  _Eu  _USA  \n",
      "0    USA    0     1  \n",
      "1    USA    0     1  \n",
      "2     Eu    1     0  \n",
      "3    USA    0     1  \n",
      "4     Eu    1     0  \n"
     ]
    }
   ],
   "source": [
    "onehot_encoded = pd.get_dummies(df['origin'], prefix='')\n",
    "print(onehot_encoded)\n",
    "df_new = pd.concat([df, onehot_encoded], axis=1)\n",
    "df_new['_Eu'] = df_new['_Eu'].astype(int)\n",
    "df_new['_USA'] = df_new['_USA'].astype(int)\n",
    "print(df_new)"
   ]
  },
  {
   "cell_type": "code",
   "execution_count": 10,
   "metadata": {},
   "outputs": [
    {
     "name": "stdout",
     "output_type": "stream",
     "text": [
      "   mpg  cylinders  displacement  horsepower  weight  acceleration  model year  \\\n",
      "0   18          8           307         130    3504          12.0          70   \n",
      "1   15          8           350         165    3693          11.5          70   \n",
      "2   36          4            97          95    2130          14.0          80   \n",
      "3   22          6           140         110    2695          15.0          80   \n",
      "4   20          6           160         115    2825          14.5          80   \n",
      "\n",
      "  origin   Eu  USA  \n",
      "0    USA  0.0  1.0  \n",
      "1    USA  0.0  1.0  \n",
      "2     Eu  1.0  0.0  \n",
      "3    USA  0.0  1.0  \n",
      "4     Eu  1.0  0.0  \n"
     ]
    }
   ],
   "source": [
    "from sklearn.preprocessing import OneHotEncoder\n",
    "\n",
    "encoder = OneHotEncoder(sparse_output=False) #희소성행렬, 일반배열선택\n",
    "onehot_encoded = encoder.fit_transform(df[['origin']])\n",
    "# print(onehot_encoded)\n",
    "\n",
    "df_oh = pd.DataFrame(onehot_encoded, columns=['Eu','USA'])\n",
    "# print(df_oh)\n",
    "df_new = pd.concat([df, df_oh], axis=1)\n",
    "print(df_new)"
   ]
  },
  {
   "cell_type": "code",
   "execution_count": 12,
   "metadata": {},
   "outputs": [
    {
     "name": "stdout",
     "output_type": "stream",
     "text": [
      "\n",
      "판다스 방식 원-핫 인코딩 결과:\n",
      "   height  width   color species  Daisy  Fern  Rose\n",
      "0      10      5   Green    Fern      0     1     0\n",
      "1      15      7  Yellow   Daisy      1     0     0\n",
      "2      20     10     Red    Rose      0     0     1\n",
      "3      12      6    Blue    Fern      0     1     0\n",
      "4      18      9  Yellow   Daisy      1     0     0\n"
     ]
    }
   ],
   "source": [
    "import pandas as pd\n",
    "\n",
    "# 새로운 데이터 생성\n",
    "data = {\n",
    "    'height': [10, 15, 20, 12, 18],\n",
    "    'width': [5, 7, 10, 6, 9],\n",
    "    'color': ['Green', 'Yellow', 'Red', 'Blue', 'Yellow'],\n",
    "    'species': ['Fern', 'Daisy', 'Rose', 'Fern', 'Daisy'],\n",
    "}\n",
    "\n",
    "# 데이터프레임 생성\n",
    "df = pd.DataFrame(data)\n",
    "\n",
    "# 원-핫 인코딩 수행\n",
    "onehot_encoded = pd.get_dummies(df['species'], prefix='', prefix_sep='')\n",
    "\n",
    "# 원본 데이터프레임에 원-핫 인코딩된 데이터프레임을 추가\n",
    "df = pd.concat([df, onehot_encoded], axis=1)\n",
    "\n",
    "# 1과 0으로 변환\n",
    "df['Daisy'] = df['Daisy'].astype(int)\n",
    "df['Fern'] = df['Fern'].astype(int)\n",
    "df['Rose'] = df['Rose'].astype(int)\n",
    "\n",
    "# 결과 출력\n",
    "print(\"\\n판다스 방식 원-핫 인코딩 결과:\")\n",
    "print(df)"
   ]
  },
  {
   "cell_type": "code",
   "execution_count": 13,
   "metadata": {},
   "outputs": [
    {
     "name": "stdout",
     "output_type": "stream",
     "text": [
      "\n",
      "사이킷런 방식 원-핫 인코딩 결과:\n",
      "   height  width   color species  species_Daisy  species_Fern  species_Rose\n",
      "0      10      5   Green    Fern            0.0           1.0           0.0\n",
      "1      15      7  Yellow   Daisy            1.0           0.0           0.0\n",
      "2      20     10     Red    Rose            0.0           0.0           1.0\n",
      "3      12      6    Blue    Fern            0.0           1.0           0.0\n",
      "4      18      9  Yellow   Daisy            1.0           0.0           0.0\n"
     ]
    }
   ],
   "source": [
    "from sklearn.preprocessing import OneHotEncoder\n",
    "\n",
    "# 새로운 데이터 생성\n",
    "data = {\n",
    "    'height': [10, 15, 20, 12, 18],\n",
    "    'width': [5, 7, 10, 6, 9],\n",
    "    'color': ['Green', 'Yellow', 'Red', 'Blue', 'Yellow'],\n",
    "    'species': ['Fern', 'Daisy', 'Rose', 'Fern', 'Daisy'],\n",
    "}\n",
    "\n",
    "# 데이터프레임 생성\n",
    "df = pd.DataFrame(data)\n",
    "\n",
    "# OneHotEncoder 객체 생성\n",
    "encoder = OneHotEncoder(sparse_output=False)\n",
    "\n",
    "# 'species' 열에 대해 원-핫 인코딩 수행\n",
    "onehot_encoded = encoder.fit_transform(df[['species']])\n",
    "\n",
    "# 결과를 데이터프레임으로 변환\n",
    "onehot_df = pd.DataFrame(onehot_encoded, columns=encoder.get_feature_names_out(['species']))\n",
    "\n",
    "# 원본 데이터프레임에 원-핫 인코딩된 데이터프레임을 추가\n",
    "df = pd.concat([df, onehot_df], axis=1)\n",
    "\n",
    "# 결과 출력\n",
    "print(\"\\n사이킷런 방식 원-핫 인코딩 결과:\")\n",
    "print(df)"
   ]
  },
  {
   "cell_type": "markdown",
   "metadata": {},
   "source": [
    "데이터 표준화"
   ]
  },
  {
   "cell_type": "code",
   "execution_count": 17,
   "metadata": {},
   "outputs": [
    {
     "name": "stdout",
     "output_type": "stream",
     "text": [
      "   height  weight\n",
      "0     150      65\n",
      "1     160      70\n",
      "2     170      80\n",
      "3     180      90\n",
      "4     190     100\n",
      "\n",
      "\n",
      "           height      weight\n",
      "count    5.000000    5.000000\n",
      "mean   170.000000   81.000000\n",
      "std     15.811388   14.317821\n",
      "min    150.000000   65.000000\n",
      "25%    160.000000   70.000000\n",
      "50%    170.000000   80.000000\n",
      "75%    180.000000   90.000000\n",
      "max    190.000000  100.000000\n",
      "<class 'sklearn.preprocessing._data.StandardScaler'> <class 'numpy.ndarray'>\n",
      "\n",
      "\n",
      "         키]       몸무게\n",
      "0 -1.414214 -1.249390\n",
      "1 -0.707107 -0.858956\n",
      "2  0.000000 -0.078087\n",
      "3  0.707107  0.702782\n",
      "4  1.414214  1.483651\n"
     ]
    }
   ],
   "source": [
    "from sklearn.preprocessing import StandardScaler\n",
    "import pandas as pd\n",
    "data = {\n",
    "    'height':[150,160,170,180,190],\n",
    "    'weight':[65,70,80,90,100]\n",
    "}\n",
    "\n",
    "df = pd.DataFrame(data)\n",
    "print(df)\n",
    "print(\"\\n\")\n",
    "print(df.describe())\n",
    "\n",
    "scaler = StandardScaler()\n",
    "scaled_data = scaler.fit_transform(df)\n",
    "print(type(scaler), type(scaled_data))\n",
    "df_scaled = pd.DataFrame(scaled_data, columns=['키]','몸무게'])\n",
    "print(\"\\n\")\n",
    "print(df_scaled)"
   ]
  },
  {
   "cell_type": "code",
   "execution_count": 20,
   "metadata": {},
   "outputs": [
    {
     "name": "stdout",
     "output_type": "stream",
     "text": [
      "   height  weight\n",
      "0     150      65\n",
      "1     160      70\n",
      "2     170      80\n",
      "3     180      90\n",
      "4     190     100\n",
      "\n",
      "\n",
      "      키       몸무게\n",
      "0  0.00  0.000000\n",
      "1  0.25  0.142857\n",
      "2  0.50  0.428571\n",
      "3  0.75  0.714286\n",
      "4  1.00  1.000000\n"
     ]
    }
   ],
   "source": [
    "#minmax 스케일\n",
    "from sklearn.preprocessing import MinMaxScaler\n",
    "import pandas as pd\n",
    "data = {\n",
    "    'height':[150,160,170,180,190],\n",
    "    'weight':[65,70,80,90,100]\n",
    "}\n",
    "\n",
    "df = pd.DataFrame(data)\n",
    "print(df)\n",
    "\n",
    "scaler = MinMaxScaler()\n",
    "normalized_data = scaler.fit_transform(df)\n",
    "df_nomal = pd.DataFrame(normalized_data, columns=['키','몸무게'])\n",
    "print(\"\\n\")\n",
    "print(df_nomal)"
   ]
  }
 ],
 "metadata": {
  "kernelspec": {
   "display_name": "new_env",
   "language": "python",
   "name": "python3"
  },
  "language_info": {
   "codemirror_mode": {
    "name": "ipython",
    "version": 3
   },
   "file_extension": ".py",
   "mimetype": "text/x-python",
   "name": "python",
   "nbconvert_exporter": "python",
   "pygments_lexer": "ipython3",
   "version": "3.12.7"
  }
 },
 "nbformat": 4,
 "nbformat_minor": 2
}
