{
 "cells": [
  {
   "cell_type": "code",
   "execution_count": 9,
   "metadata": {},
   "outputs": [
    {
     "name": "stdout",
     "output_type": "stream",
     "text": [
      "최대:  29.0 최소:  5.0\n",
      "전체 데이터 -------\n",
      "   values\n",
      "0      10\n",
      "1      12\n",
      "2      14\n",
      "3      15\n",
      "4     100\n",
      "5     200\n",
      "6      18\n",
      "7      19\n",
      "8      20\n",
      "이상치 제거 마스크 ------\n",
      "0     True\n",
      "1     True\n",
      "2     True\n",
      "3     True\n",
      "4    False\n",
      "5    False\n",
      "6     True\n",
      "7     True\n",
      "8     True\n",
      "Name: values, dtype: bool\n",
      "클린 데이터----------\n",
      "   values\n",
      "0      10\n",
      "1      12\n",
      "2      14\n",
      "3      15\n",
      "6      18\n",
      "7      19\n",
      "8      20\n"
     ]
    }
   ],
   "source": [
    "#iqr로 이상치 제거하기\n",
    "\n",
    "import pandas as pd\n",
    "\n",
    "data = {'values':[10,12, 14, 15, 100, 200,18,19, 20]}\n",
    "df = pd.DataFrame(data)\n",
    "# print(df)\n",
    "\n",
    "#iqr값 구하기\n",
    "q1 = df['values'].quantile(0.25)\n",
    "q3 = df['values'].quantile(0.75)\n",
    "# print(q1, q3)\n",
    "# df.describe()\n",
    "\n",
    "iqr = q3-q1\n",
    "max = q3 + (iqr *1.5)\n",
    "min = q1 - (iqr *1.5)\n",
    "print(\"최대: \", max, \"최소: \", min)\n",
    "print(\"전체 데이터 -------\")\n",
    "print(df)\n",
    "\n",
    "mark = (df['values'] <= max) & (df['values'] >= min)\n",
    "print(\"이상치 제거 마스크 ------\")\n",
    "print(mark)\n",
    "\n",
    "df_clean = df[mark]\n",
    "print(\"클린 데이터----------\")\n",
    "print(df[mark])\n",
    "\n",
    "# df.describe"
   ]
  },
  {
   "cell_type": "code",
   "execution_count": 13,
   "metadata": {},
   "outputs": [
    {
     "name": "stdout",
     "output_type": "stream",
     "text": [
      "   values    zscore\n",
      "0      10 -1.414214\n",
      "1      20 -0.707107\n",
      "2      30  0.000000\n",
      "3      40  0.707107\n",
      "4      50  1.414214\n"
     ]
    }
   ],
   "source": [
    "import pandas as pd\n",
    "from scipy import stats\n",
    "\n",
    "# 샘플 DataFrame 생성\n",
    "data = {'values': [10, 20, 30, 40, 50]}\n",
    "df = pd.DataFrame(data)\n",
    "\n",
    "# z-점수 계산\n",
    "df['zscore'] = stats.zscore(df['values'])\n",
    "\n",
    "# DataFrame 출력\n",
    "print(df)\n"
   ]
  },
  {
   "cell_type": "code",
   "execution_count": 14,
   "metadata": {},
   "outputs": [
    {
     "name": "stdout",
     "output_type": "stream",
     "text": [
      "   values    zscore\n",
      "0      10 -1.414214\n",
      "1      20 -0.707107\n",
      "2      30  0.000000\n",
      "3      40  0.707107\n",
      "4      50  1.414214\n"
     ]
    }
   ],
   "source": [
    "#z-점수\n",
    "from scipy import stats\n",
    "df['zscore'] = stats.zscore(df['values'])\n",
    "print(df)\n"
   ]
  },
  {
   "cell_type": "code",
   "execution_count": 16,
   "metadata": {},
   "outputs": [
    {
     "name": "stdout",
     "output_type": "stream",
     "text": [
      "0    True\n",
      "1    True\n",
      "2    True\n",
      "3    True\n",
      "4    True\n",
      "Name: zscore, dtype: bool\n",
      "   values    zscore\n",
      "0      10 -1.414214\n",
      "1      20 -0.707107\n",
      "2      30  0.000000\n",
      "3      40  0.707107\n",
      "4      50  1.414214\n"
     ]
    }
   ],
   "source": [
    "mark = (-2 <=df['zscore']) & (df['zscore'] <= 2)\n",
    "print(mark)\n",
    "\n",
    "df_clean = df[mark]\n",
    "print(df_clean)"
   ]
  },
  {
   "cell_type": "code",
   "execution_count": null,
   "metadata": {},
   "outputs": [],
   "source": []
  }
 ],
 "metadata": {
  "kernelspec": {
   "display_name": "new_env",
   "language": "python",
   "name": "python3"
  },
  "language_info": {
   "codemirror_mode": {
    "name": "ipython",
    "version": 3
   },
   "file_extension": ".py",
   "mimetype": "text/x-python",
   "name": "python",
   "nbconvert_exporter": "python",
   "pygments_lexer": "ipython3",
   "version": "3.12.7"
  }
 },
 "nbformat": 4,
 "nbformat_minor": 2
}
