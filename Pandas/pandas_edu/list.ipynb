{
 "cells": [
  {
   "cell_type": "code",
   "execution_count": 12,
   "metadata": {},
   "outputs": [
    {
     "name": "stdout",
     "output_type": "stream",
     "text": [
      "0    10\n",
      "1    20\n",
      "2    30\n",
      "3    40\n",
      "dtype: int64\n",
      "1    20\n",
      "2    30\n",
      "3    40\n",
      "dtype: int64\n"
     ]
    }
   ],
   "source": [
    "#판다스 불러오기\n",
    "import pandas as pd\n",
    "#리스트로 시리즈 만들기\n",
    "s_list = pd.Series([10,20,30,40])\n",
    "print(s_list) #123\n",
    "\n",
    "print(s_list[1:])"
   ]
  },
  {
   "cell_type": "code",
   "execution_count": 11,
   "metadata": {},
   "outputs": [
    {
     "name": "stdout",
     "output_type": "stream",
     "text": [
      "a    10\n",
      "b    20\n",
      "c    30\n",
      "d    40\n",
      "dtype: int64\n",
      "Index(['a', 'b', 'c', 'd'], dtype='object')\n",
      "[10 20 30 40]\n",
      "b    20\n",
      "c    30\n",
      "dtype: int64\n",
      "--------\n",
      "b    20\n",
      "d    40\n",
      "dtype: int64\n"
     ]
    },
    {
     "name": "stderr",
     "output_type": "stream",
     "text": [
      "/var/folders/gt/yvtyky357fn_65q3vzx842x40000gn/T/ipykernel_31671/2471621823.py:11: FutureWarning: Series.__getitem__ treating keys as positions is deprecated. In a future version, integer keys will always be treated as labels (consistent with DataFrame behavior). To access a value by position, use `ser.iloc[pos]`\n",
      "  print(s_list[[1,3]])\n"
     ]
    }
   ],
   "source": [
    "import pandas as pd\n",
    "#리스트로 시리즈 만들기\n",
    "s_list = pd.Series([10,20,30,40], index =['a','b','c','d']) \n",
    "print(s_list) #123\n",
    "i = s_list.index\n",
    "v= s_list.values\n",
    "print(i)\n",
    "print(v)\n",
    "print(s_list[['b','c']])\n",
    "print(\"--------\")\n",
    "print(s_list[[1,3]])\n",
    "\n"
   ]
  },
  {
   "cell_type": "code",
   "execution_count": 18,
   "metadata": {},
   "outputs": [
    {
     "name": "stdout",
     "output_type": "stream",
     "text": [
      "2024.20.21\n"
     ]
    },
    {
     "name": "stderr",
     "output_type": "stream",
     "text": [
      "/var/folders/gt/yvtyky357fn_65q3vzx842x40000gn/T/ipykernel_31671/2375767425.py:7: FutureWarning: Series.__getitem__ treating keys as positions is deprecated. In a future version, integer keys will always be treated as labels (consistent with DataFrame behavior). To access a value by position, use `ser.iloc[pos]`\n",
      "  print(sr[1])\n"
     ]
    }
   ],
   "source": [
    "import pandas as pd\n",
    "\n",
    "# 데이터와 인덱스의 길이를 맞춤\n",
    "tup_data = ('영인', '2024.20.21', True)\n",
    "sr = pd.Series(tup_data, index=['이름', '생년월일', '성별'])\n",
    "\n",
    "print(sr[1])\n",
    "\n",
    "\n",
    "#sr[]\n",
    "#sr.loc\n",
    "#sr.iloc "
   ]
  },
  {
   "cell_type": "code",
   "execution_count": 13,
   "metadata": {},
   "outputs": [
    {
     "data": {
      "text/plain": [
       "0    5\n",
       "dtype: int64"
      ]
     },
     "execution_count": 13,
     "metadata": {},
     "output_type": "execute_result"
    }
   ],
   "source": [
    "pd.Series(5)"
   ]
  },
  {
   "cell_type": "code",
   "execution_count": 15,
   "metadata": {},
   "outputs": [
    {
     "data": {
      "text/plain": [
       "a    5\n",
       "b    5\n",
       "c    5\n",
       "dtype: int64"
      ]
     },
     "execution_count": 15,
     "metadata": {},
     "output_type": "execute_result"
    }
   ],
   "source": [
    "\n",
    "pd.Series(5, index=[\"a\",\"b\",\"c\"])"
   ]
  },
  {
   "cell_type": "markdown",
   "metadata": {},
   "source": [
    " < 데이터 프레임 >\n",
    "- 레코드 -> row\n",
    "- 컬럼 -> column\n",
    "\n",
    "=> 행 인덱스/열 이름 설정: pandas.DataPrame(2차원 배열, index=행 인덱스 배열, colum=열 이름 배열)\n",
    "\n",
    "=> 변경하기\n",
    "행 인덱스 변경: DataPrame 객체.index\n",
    "\n",
    "=> rename\n",
    "행 인덱스 변경: DataPrame 객체.rename(index={기존 인덱스:새 인덱스, ...})\n",
    "열 이름 변경: DataPrame 객체.rename(index={기존이름:새이름, ...})\n",
    "\n",
    "=> 삭제\n",
    "행 삭제: DataPrame 객체.drop(행 인덱스 도는 배열, axis = 0)\n",
    "열 삭제: DataPrame 객체.drop(열 이름 도는 배열, axis = 1)"
   ]
  },
  {
   "cell_type": "code",
   "execution_count": null,
   "metadata": {},
   "outputs": [],
   "source": [
    "import pandas as pd"
   ]
  }
 ],
 "metadata": {
  "kernelspec": {
   "display_name": "rapa3103",
   "language": "python",
   "name": "python3"
  },
  "language_info": {
   "codemirror_mode": {
    "name": "ipython",
    "version": 3
   },
   "file_extension": ".py",
   "mimetype": "text/x-python",
   "name": "python",
   "nbconvert_exporter": "python",
   "pygments_lexer": "ipython3",
   "version": "3.10.15"
  }
 },
 "nbformat": 4,
 "nbformat_minor": 2
}
