{
 "cells": [
  {
   "cell_type": "code",
   "execution_count": 12,
   "metadata": {},
   "outputs": [
    {
     "name": "stdout",
     "output_type": "stream",
     "text": [
      "0    10\n",
      "1    20\n",
      "2    30\n",
      "3    40\n",
      "dtype: int64\n",
      "1    20\n",
      "2    30\n",
      "3    40\n",
      "dtype: int64\n"
     ]
    }
   ],
   "source": [
    "#판다스 불러오기\n",
    "import pandas as pd\n",
    "#리스트로 시리즈 만들기\n",
    "s_list = pd.Series([10,20,30,40])\n",
    "print(s_list) #123\n",
    "\n",
    "print(s_list[1:])"
   ]
  },
  {
   "cell_type": "code",
   "execution_count": 11,
   "metadata": {},
   "outputs": [
    {
     "name": "stdout",
     "output_type": "stream",
     "text": [
      "a    10\n",
      "b    20\n",
      "c    30\n",
      "d    40\n",
      "dtype: int64\n",
      "Index(['a', 'b', 'c', 'd'], dtype='object')\n",
      "[10 20 30 40]\n",
      "b    20\n",
      "c    30\n",
      "dtype: int64\n",
      "--------\n",
      "b    20\n",
      "d    40\n",
      "dtype: int64\n"
     ]
    },
    {
     "name": "stderr",
     "output_type": "stream",
     "text": [
      "/var/folders/gt/yvtyky357fn_65q3vzx842x40000gn/T/ipykernel_31671/2471621823.py:11: FutureWarning: Series.__getitem__ treating keys as positions is deprecated. In a future version, integer keys will always be treated as labels (consistent with DataFrame behavior). To access a value by position, use `ser.iloc[pos]`\n",
      "  print(s_list[[1,3]])\n"
     ]
    }
   ],
   "source": [
    "import pandas as pd\n",
    "#리스트로 시리즈 만들기\n",
    "s_list = pd.Series([10,20,30,40], index =['a','b','c','d']) \n",
    "print(s_list) #123\n",
    "i = s_list.index\n",
    "v= s_list.values\n",
    "print(i)\n",
    "print(v)\n",
    "print(s_list[['b','c']])\n",
    "print(\"--------\")\n",
    "print(s_list[[1,3]])\n",
    "\n"
   ]
  },
  {
   "cell_type": "code",
   "execution_count": 18,
   "metadata": {},
   "outputs": [
    {
     "name": "stdout",
     "output_type": "stream",
     "text": [
      "2024.20.21\n"
     ]
    },
    {
     "name": "stderr",
     "output_type": "stream",
     "text": [
      "/var/folders/gt/yvtyky357fn_65q3vzx842x40000gn/T/ipykernel_31671/2375767425.py:7: FutureWarning: Series.__getitem__ treating keys as positions is deprecated. In a future version, integer keys will always be treated as labels (consistent with DataFrame behavior). To access a value by position, use `ser.iloc[pos]`\n",
      "  print(sr[1])\n"
     ]
    }
   ],
   "source": [
    "import pandas as pd\n",
    "\n",
    "# 데이터와 인덱스의 길이를 맞춤\n",
    "tup_data = ('영인', '2024.20.21', True)\n",
    "sr = pd.Series(tup_data, index=['이름', '생년월일', '성별'])\n",
    "\n",
    "print(sr[1])\n",
    "\n",
    "\n",
    "#sr[]\n",
    "#sr.loc\n",
    "#sr.iloc "
   ]
  },
  {
   "cell_type": "code",
   "execution_count": 13,
   "metadata": {},
   "outputs": [
    {
     "data": {
      "text/plain": [
       "0    5\n",
       "dtype: int64"
      ]
     },
     "execution_count": 13,
     "metadata": {},
     "output_type": "execute_result"
    }
   ],
   "source": [
    "pd.Series(5)"
   ]
  },
  {
   "cell_type": "code",
   "execution_count": 15,
   "metadata": {},
   "outputs": [
    {
     "data": {
      "text/plain": [
       "a    5\n",
       "b    5\n",
       "c    5\n",
       "dtype: int64"
      ]
     },
     "execution_count": 15,
     "metadata": {},
     "output_type": "execute_result"
    }
   ],
   "source": [
    "\n",
    "pd.Series(5, index=[\"a\",\"b\",\"c\"])"
   ]
  },
  {
   "cell_type": "markdown",
   "metadata": {},
   "source": [
    " < 데이터 프레임 >\n",
    "- 레코드 -> row\n",
    "- 컬럼 -> column\n",
    "\n",
    "=> 행 인덱스/열 이름 설정: pandas.DataPrame(2차원 배열, index=행 인덱스 배열, colum=열 이름 배열)\n",
    "\n",
    "=> 변경하기\n",
    "행 인덱스 변경: DataPrame 객체.index\n",
    "\n",
    "=> rename\n",
    "행 인덱스 변경: DataPrame 객체.rename(index={기존 인덱스:새 인덱스, ...})\n",
    "열 이름 변경: DataPrame 객체.rename(index={기존이름:새이름, ...})\n",
    "\n",
    "=> 삭제\n",
    "행 삭제: DataPrame 객체.drop(행 인덱스 도는 배열, axis = 0)\n",
    "열 삭제: DataPrame 객체.drop(열 이름 도는 배열, axis = 1)"
   ]
  },
  {
   "cell_type": "markdown",
   "metadata": {},
   "source": [
    "문제 1: 데이터프레임에 행 추가하고, 인덱스 변경하기\n",
    "주어진 데이터프레임에 새로운 행을 추가하고, 데이터프레임의 인덱스를 변경하세요.\n",
    "조건:\n",
    "df 데이터프레임이 주어졌습니다.\n",
    "새로운 행 데이터를 추가하세요.\n",
    "기존의 인덱스를 'A', 'B', 'C', ... 형식으로 변경하세요.\n",
    "import pandas as pd\n",
    "# 주어진 데이터프레임\n",
    "data = {'Name': ['Alice', 'Bob'],\n",
    "        'Age': [24, 27],\n",
    "        'City': ['New York', 'San Francisco']}\n",
    "df = pd.DataFrame(data)\n",
    "# 문제:\n",
    "# 1. 새로운 행 추가하기 (예: 'Charlie', 22, 'Chicago')\n",
    "# 2. 인덱스를 'A', 'B', 'C'로 변경하세요.\n",
    "print(df)"
   ]
  },
  {
   "cell_type": "code",
   "execution_count": 20,
   "metadata": {},
   "outputs": [
    {
     "name": "stdout",
     "output_type": "stream",
     "text": [
      "      Name  Age           City\n",
      "A    Alice   24       New York\n",
      "B      Bob   27  San Francisco\n",
      "C  Charlie   22        Chicago\n"
     ]
    }
   ],
   "source": [
    "import pandas as pd\n",
    "\n",
    "# 주어진 데이터프레임\n",
    "data = {\n",
    "    'Name': ['Alice', 'Bob'],\n",
    "    'Age': [24, 27],\n",
    "    'City': ['New York', 'San Francisco']\n",
    "}\n",
    "df = pd.DataFrame(data)\n",
    "\n",
    "# 1. 새로운 행 추가하기\n",
    "new_row = pd.DataFrame({'Name': ['Charlie'], 'Age': [22], 'City': ['Chicago']})\n",
    "df = pd.concat([df, new_row], ignore_index=True)\n",
    "\n",
    "# 2. 인덱스를 'A', 'B', 'C'로 변경하기\n",
    "df.index = ['A', 'B', 'C']\n",
    "\n",
    "print(df)"
   ]
  },
  {
   "cell_type": "markdown",
   "metadata": {},
   "source": [
    "문제2: 아래의 데이터프레임에서 열 삭제하기\n",
    "주어진 df 데이터프레임에서 City 열을 삭제하세요.\n",
    "문제3: 여러 열 삭제하기\n",
    "df 데이터프레임에서 Age와 City 열을 모두 삭제하세요.\n",
    "각 문제를 풀고, Pandas에서 열을 어떻게 삭제하는지 직접 확인해보세요\n",
    "<코드>\n",
    "import pandas as pd\n",
    "# 주어진 데이터프레임\n",
    "data = {'Name': ['Alice', 'Bob', 'Charlie'],\n",
    "        'Age': [24, 27, 22],\n",
    "        'City': ['New York', 'San Francisco', 'Chicago']}\n",
    "df = pd.DataFrame(data)"
   ]
  },
  {
   "cell_type": "code",
   "execution_count": 21,
   "metadata": {},
   "outputs": [
    {
     "name": "stdout",
     "output_type": "stream",
     "text": [
      "문제 2 - City 열 삭제 후:\n",
      "      Name  Age\n",
      "0    Alice   24\n",
      "1      Bob   27\n",
      "2  Charlie   22\n"
     ]
    }
   ],
   "source": [
    "import pandas as pd\n",
    "data = {'Name': ['Alice', 'Bob', 'Charlie'],\n",
    "        'Age': [24, 27, 22],\n",
    "        'City': ['New York', 'San Francisco', 'Chicago']}\n",
    "df = pd.DataFrame(data)\n",
    "\n",
    "# City 열 삭제\n",
    "df = df.drop(columns=['City'])\n",
    "\n",
    "print(\"문제 2 - City 열 삭제 후:\")\n",
    "print(df)"
   ]
  },
  {
   "cell_type": "markdown",
   "metadata": {},
   "source": [
    "문제 4: 열의 순서 바꾸기\n",
    "다음으로, 데이터프레임에서 열의 순서를 바꿔보세요.\n",
    "조건:\n",
    "주어진 데이터프레임에서 열의 순서를 City, Name, Age로 변경하세요.\n",
    "import pandas as pd\n",
    "# 주어진 데이터프레임\n",
    "data = {'Name': ['Alice', 'Bob', 'Charlie'],\n",
    "        'Age': [24, 27, 22],\n",
    "        'City': ['New York', 'San Francisco', 'Chicago']}\n",
    "df = pd.DataFrame(data)\n",
    "# 문제:\n",
    "# 1. 열의 순서를 'City', 'Name', 'Age'로 변경하세요.\n",
    "print(df)"
   ]
  },
  {
   "cell_type": "code",
   "execution_count": 1,
   "metadata": {},
   "outputs": [
    {
     "name": "stdout",
     "output_type": "stream",
     "text": [
      "열의 순서를 변경한 데이터프레임:\n",
      "            City     Name  Age\n",
      "0       New York    Alice   24\n",
      "1  San Francisco      Bob   27\n",
      "2        Chicago  Charlie   22\n"
     ]
    }
   ],
   "source": [
    "import pandas as pd\n",
    "data = {'Name': ['Alice', 'Bob', 'Charlie'],\n",
    "        'Age': [24, 27, 22],\n",
    "        'City': ['New York', 'San Francisco', 'Chicago']}\n",
    "df = pd.DataFrame(data)\n",
    "\n",
    "df = df[['City', 'Name', 'Age']]\n",
    "\n",
    "print(\"열의 순서를 변경한 데이터프레임:\")\n",
    "print(df)\n"
   ]
  }
 ],
 "metadata": {
  "kernelspec": {
   "display_name": "rapa3103",
   "language": "python",
   "name": "python3"
  },
  "language_info": {
   "codemirror_mode": {
    "name": "ipython",
    "version": 3
   },
   "file_extension": ".py",
   "mimetype": "text/x-python",
   "name": "python",
   "nbconvert_exporter": "python",
   "pygments_lexer": "ipython3",
   "version": "3.10.15"
  }
 },
 "nbformat": 4,
 "nbformat_minor": 2
}
